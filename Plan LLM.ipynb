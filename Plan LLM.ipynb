{
 "cells": [
  {
   "cell_type": "code",
   "execution_count": 1,
   "id": "33231c9f-e7a1-44c9-94e5-2658120b07a7",
   "metadata": {},
   "outputs": [],
   "source": [
    "import operator\n",
    "from typing import List, Tuple, Annotated, TypedDict, Union, Literal\n",
    "from langchain import hub\n",
    "from langchain.tools import tool\n",
    "from langchain_groq import ChatGroq\n",
    "from langchain_community.chat_models import ChatOllama\n",
    "from langchain.tools import tool\n",
    "from duckduckgo_search import DDGS\n",
    "from langchain_community.utilities import DuckDuckGoSearchAPIWrapper\n",
    "from langgraph.prebuilt import create_react_agent\n",
    "from langchain_core.pydantic_v1 import BaseModel, Field\n",
    "from langchain_core.prompts import ChatPromptTemplate\n",
    "from langgraph.graph import StateGraph"
   ]
  },
  {
   "cell_type": "code",
   "execution_count": 2,
   "id": "f7b96795-b25b-45c7-b7a4-7e1084d72dbf",
   "metadata": {},
   "outputs": [
    {
     "name": "stdout",
     "output_type": "stream",
     "text": [
      "================================\u001b[1m System Message \u001b[0m================================\n",
      "\n",
      "You are a helpful assistant.\n",
      "\n",
      "=============================\u001b[1m Messages Placeholder \u001b[0m=============================\n",
      "\n",
      "\u001b[33;1m\u001b[1;3m{{messages}}\u001b[0m\n"
     ]
    }
   ],
   "source": [
    "#tools\n",
    "#wrapper = DuckDuckGoSearchAPIWrapper(max_results=20)\n",
    "#web_search_tool = DuckDuckGoSearchRun(api_wrapper=wrapper)\n",
    "#web_search_tool = DuckDuckGoSearchResults(api_wrapper=wrapper)\n",
    "\n",
    "@tool(\"search_duckduckgo\", return_direct=True)\n",
    "def search_duckduckgo(query: str, num_results: int = 5, content: bool = True):\n",
    "    ''' Provides search results from duckduckgo '''\n",
    "    results = DDGS().text(query, max_results=num_results)\n",
    "    if content:\n",
    "        formatted_results = [{\"url\": result['href'], \"content\": result['body']} for result in results]\n",
    "    else:\n",
    "        formatted_results = [{\"url\": result['href']} for result in results]\n",
    "    return formatted_results\n",
    "\n",
    "\n",
    "tools = [search_duckduckgo]\n",
    "\n",
    "# Prompt style\n",
    "prompt = hub.pull(\"wfh/react-agent-executor\")\n",
    "prompt.pretty_print()\n",
    "\n",
    "# Creating an Agent Executor with tools\n",
    "groq_api_key = \"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\"\n",
    "llm = ChatGroq(temperature=0, groq_api_key=groq_api_key, model_name=\"llama3-70b-8192\")\n",
    "#llm = ChatOllama(model = \"llama3\", temperature=0)\n",
    "agent_executor = create_react_agent(llm, tools, messages_modifier=prompt)"
   ]
  },
  {
   "cell_type": "code",
   "execution_count": 3,
   "id": "ffa5df8f-5274-4181-9294-d1ffcb9cade7",
   "metadata": {},
   "outputs": [
    {
     "data": {
      "text/plain": [
       "{'messages': [HumanMessage(content='Give me a list of G20 Countries', id='3e9a53b3-96a6-42bd-8372-35c8679c7bb0'),\n",
       "  AIMessage(content='', additional_kwargs={'tool_calls': [{'id': 'call_6bv2', 'function': {'arguments': '{\"query\":\"list of G20 countries\"}', 'name': 'search_duckduckgo'}, 'type': 'function'}]}, response_metadata={'token_usage': {'completion_tokens': 49, 'prompt_tokens': 966, 'total_tokens': 1015, 'completion_time': 0.146656535, 'prompt_time': 0.52503276, 'queue_time': None, 'total_time': 0.671689295}, 'model_name': 'llama3-70b-8192', 'system_fingerprint': 'fp_c1a4bcec29', 'finish_reason': 'tool_calls', 'logprobs': None}, id='run-965dd3d5-4103-47fe-ba9e-7d0c5e73f18d-0', tool_calls=[{'name': 'search_duckduckgo', 'args': {'query': 'list of G20 countries'}, 'id': 'call_6bv2'}]),\n",
       "  ToolMessage(content='[{\"url\": \"https://en.wikipedia.org/wiki/G20\", \"content\": \"The G20 or Group of 20 is an intergovernmental forum comprising 19 sovereign countries, the European Union (EU), and the African Union (AU). It works to address major issues related to the global economy, such as international financial stability, climate change mitigation and sustainable development.. The G20 is composed of most of the world\\'s largest economies\\' finance ministries, including ...\"}, {\"url\": \"https://www.worldatlas.com/articles/g20-members.html\", \"content\": \"List of G20 Members ... Which Countries Have Featured As Guests In The G20 Events? The organization engages numerous non-member nations in their events to ensure that they reflect on global opinion. Some of the permanent invitees include Rwanda as the chair of the African Union, Papua New Guinea as the 2018\\'s host, Senegal, Spain and ...\"}, {\"url\": \"https://worldpopulationreview.com/country-rankings/g20-countries\", \"content\": \"The forum was originally formed in 1999. The G20 is made up of a group of nations with the most advanced and emerging economies in the world. These countries make up about 85% of global GDP, over 75% of global trade, and approximately two-thirds of the world\\'s total population. These nations also make up about half of the earth\\'s total land ...\"}, {\"url\": \"https://www.investopedia.com/terms/g/g-20.asp\", \"content\": \"The G-20 is a forum of 19 countries and the European Union that promotes global economic growth, trade, and financial regulation. Learn about its members, policy focus, history, and criticism.\"}, {\"url\": \"https://www.britannica.com/topic/Group-of-20\", \"content\": \"Jeff Wallenfeldt. Group of 20 (G20), international body created in 1999 that provides a forum for strategic economic communication between industrialized and developing countries. The G20 originated as a response to the economic crises of the late 1990s; it expanded on the work of the Group of Seven (G7; known as.\"}]', name='search_duckduckgo', id='d762530f-c767-4421-b1ae-e2ff54d8bba0', tool_call_id='call_6bv2'),\n",
       "  AIMessage(content='The G20 countries are: Argentina, Australia, Brazil, Canada, China, France, Germany, India, Indonesia, Italy, Japan, Mexico, Russia, Saudi Arabia, South Africa, South Korea, Turkey, the United Kingdom, and the United States.', response_metadata={'token_usage': {'completion_tokens': 52, 'prompt_tokens': 1486, 'total_tokens': 1538, 'completion_time': 0.150110216, 'prompt_time': 0.513277614, 'queue_time': None, 'total_time': 0.66338783}, 'model_name': 'llama3-70b-8192', 'system_fingerprint': 'fp_abd29e8833', 'finish_reason': 'stop', 'logprobs': None}, id='run-6b9c26c0-fad8-4505-ba4e-ba6bd94ab5fd-0')]}"
      ]
     },
     "execution_count": 3,
     "metadata": {},
     "output_type": "execute_result"
    }
   ],
   "source": [
    "agent_executor.invoke({\"messages\": [(\"user\", \"Give me a list of G20 Countries\")]})"
   ]
  },
  {
   "cell_type": "code",
   "execution_count": 4,
   "id": "b235ea9c-9655-40c3-946e-888b975a4939",
   "metadata": {},
   "outputs": [],
   "source": [
    "# Defining the State\n",
    "class PlanExecute(TypedDict):\n",
    "    input: str\n",
    "    plan: List[str]\n",
    "    past_steps: Annotated[List[Tuple], operator.add]\n",
    "    response: str"
   ]
  },
  {
   "cell_type": "code",
   "execution_count": 5,
   "id": "740e34aa-9744-41b9-8094-20f235745f52",
   "metadata": {},
   "outputs": [
    {
     "name": "stderr",
     "output_type": "stream",
     "text": [
      "C:\\Users\\safim\\anaconda3\\Lib\\site-packages\\langchain_core\\_api\\beta_decorator.py:87: LangChainBetaWarning: The method `ChatGroq.with_structured_output` is in beta. It is actively being worked on, so the API may change.\n",
      "  warn_beta(\n"
     ]
    },
    {
     "data": {
      "text/plain": [
       "Plan(steps=['Find the list of G20 nations', 'Find the electricity consumption per capita for each nation', 'Compile the data into a table'])"
      ]
     },
     "execution_count": 5,
     "metadata": {},
     "output_type": "execute_result"
    }
   ],
   "source": [
    "# Defining the planning step\n",
    "class Plan(BaseModel):\n",
    "    \"\"\"Plan to follow in future\"\"\"\n",
    "\n",
    "    steps: List[str] = Field(\n",
    "        description=\"different steps to follow, should be in sorted order\"\n",
    "    )\n",
    "\n",
    "planner_prompt = ChatPromptTemplate.from_messages(\n",
    "    [\n",
    "        (\n",
    "            \"system\",\n",
    "            \"\"\"For the given objective, come up with a simple step by step plan. \\\n",
    "This plan should involve individual tasks, that if executed correctly will yield the correct answer. Do not add any superfluous steps. \\\n",
    "The result of the final step should be the final answer. Make sure that each step has all the information needed - do not skip steps. Break down\n",
    "the given objective into simple tasks. For example: If i ask for the hometown of the current us open winner, the plan would be to 1. Find who the current\n",
    "winner of US open, once you have the name 2. Find the home town\"\"\",\n",
    "        ),\n",
    "        (\"placeholder\", \"{messages}\"),\n",
    "    ]\n",
    ")\n",
    "planner = planner_prompt | ChatGroq(temperature=0, groq_api_key=groq_api_key, model_name=\"llama3-70b-8192\").with_structured_output(Plan)\n",
    "\n",
    "planner.invoke(\n",
    "    {\n",
    "        \"messages\": [\n",
    "            (\"user\", \"Compile table of electricity consumption per capita for g20 nations\")\n",
    "        ]\n",
    "    }\n",
    ")"
   ]
  },
  {
   "cell_type": "code",
   "execution_count": 6,
   "id": "d1589263-a31f-45a7-950d-b5b2fa1108d3",
   "metadata": {},
   "outputs": [],
   "source": [
    "# Defining the re-planing step\n",
    "class Response(BaseModel):\n",
    "    \"\"\"Response to user.\"\"\"\n",
    "\n",
    "    response: str\n",
    "\n",
    "\n",
    "class Act(BaseModel):\n",
    "    \"\"\"Action to perform.\"\"\"\n",
    "\n",
    "    action: Union[Response, Plan] = Field(\n",
    "        description=\"Action to perform. If you want to respond to user, use Response. \"\n",
    "        \"If you need to further use tools to get the answer, use Plan.\"\n",
    "    )\n",
    "\n",
    "\n",
    "replanner_prompt = ChatPromptTemplate.from_template(\n",
    "    \"\"\"For the given objective, come up with a simple step by step plan. \\\n",
    "This plan should involve individual tasks, that if executed correctly will yield the correct answer. Do not add any superfluous steps. \\\n",
    "The result of the final step should be the final answer. Make sure that each step has all the information needed - do not skip steps.Break down\n",
    "the given objective into simple tasks. For example: If i ask for the hometown of the current us open winner, the plan would be to 1. Find who the current\n",
    "winner of US open, once you have the name 2. Find the home town\n",
    "\n",
    "Your objective was this:\n",
    "{input}\n",
    "\n",
    "Your original plan was this:\n",
    "{plan}\n",
    "\n",
    "You have currently done the follow steps:\n",
    "{past_steps}\n",
    "\n",
    "Update your plan accordingly. If no more steps are needed and you can return to the user, then respond with that. Otherwise, fill out the plan. Only add steps to the plan that still NEED to be done. Do not return previously done steps as part of the plan.\"\"\"\n",
    ")\n",
    "\n",
    "replanner = replanner_prompt | ChatGroq(temperature=0, groq_api_key=groq_api_key, model_name=\"llama3-70b-8192\").with_structured_output(Act)"
   ]
  },
  {
   "cell_type": "code",
   "execution_count": 7,
   "id": "6bef36a9-d93c-4c71-bf8d-ffd14c3faec7",
   "metadata": {},
   "outputs": [],
   "source": [
    "# Create the Graph\n",
    "async def execute_step(state: PlanExecute):\n",
    "    plan = state[\"plan\"]\n",
    "    plan_str = \"\\n\".join(f\"{i+1}. {step}\" for i, step in enumerate(plan))\n",
    "    task = plan[0]\n",
    "    task_formatted = f\"\"\"For the following plan:\n",
    "{plan_str}\\n\\nYou are tasked with executing step. You only have one tool: search_duckduckgo, use it when needed {1}, {task}.\"\"\"\n",
    "    agent_response = await agent_executor.ainvoke(\n",
    "        {\"messages\": [(\"user\", task_formatted)]}\n",
    "    )\n",
    "    return {\n",
    "        \"past_steps\": (task, agent_response[\"messages\"][-1].content),\n",
    "    }\n",
    "\n",
    "async def plan_step(state: PlanExecute):\n",
    "    plan = await planner.ainvoke({\"messages\": [(\"user\", state[\"input\"])]})\n",
    "    return {\"plan\": plan.steps}\n",
    "\n",
    "\n",
    "async def replan_step(state: PlanExecute):\n",
    "    output = await replanner.ainvoke(state)\n",
    "    if isinstance(output.action, Response):\n",
    "        return {\"response\": output.action.response}\n",
    "    else:\n",
    "        return {\"plan\": output.action.steps}\n",
    "\n",
    "\n",
    "def should_end(state: PlanExecute) -> Literal[\"agent\", \"__end__\"]:\n",
    "    if \"response\" in state and state[\"response\"]:\n",
    "        return \"__end__\"\n",
    "    else:\n",
    "        return \"agent\""
   ]
  },
  {
   "cell_type": "code",
   "execution_count": 8,
   "id": "a89d8b91-2f14-418e-8d43-eba0811bbbe7",
   "metadata": {},
   "outputs": [],
   "source": [
    "workflow = StateGraph(PlanExecute)\n",
    "\n",
    "# Adding the plan node\n",
    "workflow.add_node(\"planner\", plan_step)\n",
    "\n",
    "# Adding the execution step\n",
    "workflow.add_node(\"agent\", execute_step)\n",
    "\n",
    "# Adding a replan node\n",
    "workflow.add_node(\"replan\", replan_step)\n",
    "\n",
    "workflow.set_entry_point(\"planner\")\n",
    "\n",
    "# From plan to agent\n",
    "workflow.add_edge(\"planner\", \"agent\")\n",
    "\n",
    "# From agent, to replan\n",
    "workflow.add_edge(\"agent\", \"replan\")\n",
    "\n",
    "workflow.add_conditional_edges(\n",
    "    \"replan\",\n",
    "    # Pass in the function that will determine which node is called next.\n",
    "    should_end,\n",
    ")\n",
    "\n",
    "app = workflow.compile()"
   ]
  },
  {
   "cell_type": "code",
   "execution_count": 9,
   "id": "64bc576f-a39c-45fc-be90-be7f87dea0a2",
   "metadata": {},
   "outputs": [
    {
     "name": "stdout",
     "output_type": "stream",
     "text": [
      "{'plan': ['Find the list of G20 nations', 'Find the electricity consumption per capita for each nation', 'Compile the data into a table']}\n",
      "{'past_steps': ('Find the list of G20 nations', 'Now that we have the list of G20 nations and the information on electricity consumption per capita, we can compile the data into a table. Here is the compiled data:\\n\\n| Country | Electricity Consumption per Capita (kWh) |\\n| --- | --- |\\n| Argentina | 2,531 |\\n| Australia | 9,495 |\\n| Brasil | 2,455 |\\n| Canada | 14,764 |\\n| China | 4,454 |\\n| France | 7,374 |\\n| Germany | 7,035 |\\n| India | 818 |\\n| Indonesia | 744 |\\n| Italy | 5,534 |\\n| Japan | 7,374 |\\n| Korea | 10,162 |\\n| Mexico | 2,144 |\\n| Russia | 6,438 |\\n| Saudi Arabia | 9,295 |\\n| South Africa | 4,144 |\\n| T\\\\u00fcrkiye | 2,844 |\\n| UK | 5,538 |\\n| USA | 12,154 |\\n\\nNote: The electricity consumption per capita values are approximate and based on the data from the provided sources.')}\n",
      "{'response': 'The table of electricity consumption per capita for G20 nations is:\\n\\n| Country | Electricity Consumption per Capita (kWh) |\\n| --- | --- |\\n| Argentina | 2,531 |\\n| Australia | 9,495 |\\n| Brasil | 2,455 |\\n| Canada | 14,764 |\\n| China | 4,454 |\\n| France | 7,374 |\\n| Germany | 7,035 |\\n| India | 818 |\\n| Indonesia | 744 |\\n| Italy | 5,534 |\\n| Japan | 7,374 |\\n| Korea | 10,162 |\\n| Mexico | 2,144 |\\n| Russia | 6,438 |\\n| Saudi Arabia | 9,295 |\\n| South Africa | 4,144 |\\n| T\\\\u00fcrkiye | 2,844 |\\n| UK | 5,538 |\\n| USA | 12,154 |\\n\\nNote: The electricity consumption per capita values are approximate and based on the data from the provided sources.'}\n"
     ]
    }
   ],
   "source": [
    "config = {\"recursion_limit\": 50}\n",
    "inputs = {\"input\": \"Compile table of electricity consumption per capita for g20 nations\"}\n",
    "async for event in app.astream(inputs, config=config):\n",
    "    for k, v in event.items():\n",
    "        if k != \"__end__\":\n",
    "            print(v)"
   ]
  },
  {
   "cell_type": "code",
   "execution_count": null,
   "id": "c791c389-be44-468e-9574-fa2e6c39e240",
   "metadata": {},
   "outputs": [],
   "source": []
  },
  {
   "cell_type": "code",
   "execution_count": 12,
   "id": "fede1e92-2d3b-4567-9a66-352de85450d6",
   "metadata": {},
   "outputs": [
    {
     "name": "stdout",
     "output_type": "stream",
     "text": [
      "Object `agent_executor.with_structured_output` not found.\n"
     ]
    }
   ],
   "source": []
  },
  {
   "cell_type": "code",
   "execution_count": null,
   "id": "84d1cbc3-9a4c-496b-8453-a7fa5d11a20b",
   "metadata": {},
   "outputs": [],
   "source": []
  },
  {
   "cell_type": "code",
   "execution_count": null,
   "id": "97e39a87-5a9a-4faf-8f22-762a3cd7d9de",
   "metadata": {},
   "outputs": [],
   "source": []
  },
  {
   "cell_type": "code",
   "execution_count": null,
   "id": "6284e352-4b83-4511-ba7f-ae26081b553d",
   "metadata": {},
   "outputs": [],
   "source": []
  },
  {
   "cell_type": "code",
   "execution_count": null,
   "id": "1ed9a741-9bb2-47aa-bfdd-ae37e298f1e5",
   "metadata": {},
   "outputs": [],
   "source": []
  },
  {
   "cell_type": "code",
   "execution_count": null,
   "id": "8b530455-fc65-498d-995e-d7ead2101002",
   "metadata": {},
   "outputs": [],
   "source": []
  },
  {
   "cell_type": "code",
   "execution_count": null,
   "id": "c2419b2b-9779-4152-92dc-e09a137fd973",
   "metadata": {},
   "outputs": [],
   "source": []
  },
  {
   "cell_type": "code",
   "execution_count": null,
   "id": "aec2f3b5-18c0-4eef-96cd-76acb3460935",
   "metadata": {},
   "outputs": [],
   "source": []
  }
 ],
 "metadata": {
  "kernelspec": {
   "display_name": "Python 3 (ipykernel)",
   "language": "python",
   "name": "python3"
  },
  "language_info": {
   "codemirror_mode": {
    "name": "ipython",
    "version": 3
   },
   "file_extension": ".py",
   "mimetype": "text/x-python",
   "name": "python",
   "nbconvert_exporter": "python",
   "pygments_lexer": "ipython3",
   "version": "3.11.7"
  }
 },
 "nbformat": 4,
 "nbformat_minor": 5
}
